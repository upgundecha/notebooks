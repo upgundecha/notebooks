{
 "cells": [
  {
   "cell_type": "markdown",
   "id": "53f0bfcb-84a9-48d6-b94c-d5dbbbe8024c",
   "metadata": {},
   "source": [
    "## My First Notebook"
   ]
  },
  {
   "cell_type": "code",
   "execution_count": 2,
   "id": "57b1a96e-0623-4399-bb43-71c1f3ab2053",
   "metadata": {},
   "outputs": [
    {
     "name": "stdout",
     "output_type": "stream",
     "text": [
      "Hello, World!\n"
     ]
    }
   ],
   "source": [
    "print(\"Hello, World!\")"
   ]
  },
  {
   "cell_type": "code",
   "execution_count": null,
   "id": "c7cdf946-50d3-4f5d-aee8-1909676664c2",
   "metadata": {
    "editable": true,
    "slideshow": {
     "slide_type": ""
    },
    "tags": []
   },
   "outputs": [],
   "source": []
  }
 ],
 "metadata": {
  "kernelspec": {
   "display_name": "Python 3 (ipykernel)",
   "language": "python",
   "name": "python3"
  },
  "language_info": {
   "codemirror_mode": {
    "name": "ipython",
    "version": 3
   },
   "file_extension": ".py",
   "mimetype": "text/x-python",
   "name": "python",
   "nbconvert_exporter": "python",
   "pygments_lexer": "ipython3",
   "version": "3.11.5"
  }
 },
 "nbformat": 4,
 "nbformat_minor": 5
}
